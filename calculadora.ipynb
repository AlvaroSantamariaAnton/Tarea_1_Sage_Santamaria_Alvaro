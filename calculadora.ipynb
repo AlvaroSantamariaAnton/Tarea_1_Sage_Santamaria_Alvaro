{
 "cells": [
  {
   "cell_type": "code",
   "execution_count": 39,
   "metadata": {
    "collapsed": false
   },
   "outputs": [
    {
     "name": "stdout",
     "output_type": "stream",
     "text": [
      "7/8\n",
      "0.875000000000000\n"
     ]
    }
   ],
   "source": [
    "# Divide 28 por 2 elevado a la quinta potencia como número racional y obtén después su aproximación decimal\n",
    "\n",
    "a = 28 / (2^5)\n",
    "a, a.n()"
   ]
  },
  {
   "cell_type": "code",
   "execution_count": 38,
   "metadata": {
    "collapsed": false
   },
   "outputs": [
    {
     "data": {
      "text/plain": [
       "1.41421356237310"
      ]
     },
     "execution_count": 38,
     "metadata": {},
     "output_type": "execute_result"
    }
   ],
   "source": [
    "# Obtén una aproximación decimal de raíz cuadrada de 2\n",
    "\n",
    "a = sqrt(2)\n",
    "a.n()\n"
   ]
  },
  {
   "cell_type": "code",
   "execution_count": 18,
   "metadata": {
    "collapsed": false
   },
   "outputs": [
    {
     "data": {
      "text/plain": [
       "3*I"
      ]
     },
     "execution_count": 18,
     "metadata": {},
     "output_type": "execute_result"
    }
   ],
   "source": [
    "# Calcula la raíz cuadrada de -9\n",
    "\n",
    "sqrt(-9)"
   ]
  },
  {
   "cell_type": "code",
   "execution_count": 6,
   "metadata": {
    "collapsed": false
   },
   "outputs": [
    {
     "data": {
      "text/plain": [
       "51.0"
      ]
     },
     "execution_count": 6,
     "metadata": {},
     "output_type": "execute_result"
    }
   ],
   "source": [
    "# Calcula el logaritmo en base 3 de 2153693963075557766310747\n",
    "\n",
    "float(log(2153693963075557766310747, 3))"
   ]
  },
  {
   "cell_type": "code",
   "execution_count": 34,
   "metadata": {
    "collapsed": false
   },
   "outputs": [
    {
     "data": {
      "text/plain": [
       "2.71828182845904523536028747135266249775724709369996"
      ]
     },
     "execution_count": 34,
     "metadata": {},
     "output_type": "execute_result"
    }
   ],
   "source": [
    "# Calcula las 50 primeras cifras decimales del número e\n",
    "\n",
    "n(e, digits= 51)"
   ]
  },
  {
   "cell_type": "code",
   "execution_count": 40,
   "metadata": {
    "collapsed": false
   },
   "outputs": [
    {
     "data": {
      "text/plain": [
       "3.14159265358979323846264338327950288419716939937510582097494459230781640628620900"
      ]
     },
     "execution_count": 40,
     "metadata": {},
     "output_type": "execute_result"
    }
   ],
   "source": [
    "# Calcula las 80 primeras cifras decimales del número π\n",
    "\n",
    "n(pi, digits= 81)"
   ]
  },
  {
   "cell_type": "code",
   "execution_count": 41,
   "metadata": {
    "collapsed": false
   },
   "outputs": [
    {
     "name": "stdout",
     "output_type": "stream",
     "text": [
      "Cociente: 9\n",
      "Resto: 74\n"
     ]
    },
    {
     "data": {
      "text/plain": [
       "True"
      ]
     },
     "execution_count": 41,
     "metadata": {},
     "output_type": "execute_result"
    }
   ],
   "source": [
    "# Obtén el cociente y el resto de dividir 956 entre 98\n",
    "\n",
    "cociente, resto = divmod(956, 98)\n",
    "print(\"Cociente:\", cociente)\n",
    "print(\"Resto:\", resto)\n",
    "\n",
    "# Comprueba que el cociente y el resto obtenidos en el apartado anterior son correctos con la prueba de Euclides\n",
    "\n",
    "a = 956 == 98 * cociente + resto\n",
    "a"
   ]
  },
  {
   "cell_type": "code",
   "execution_count": 22,
   "metadata": {
    "collapsed": false
   },
   "outputs": [
    {
     "data": {
      "text/plain": [
       "False"
      ]
     },
     "execution_count": 22,
     "metadata": {},
     "output_type": "execute_result"
    }
   ],
   "source": [
    "# Determina si 3 divide 234878\n",
    "    \n",
    "3.divides(234878)"
   ]
  },
  {
   "cell_type": "code",
   "execution_count": 49,
   "metadata": {
    "collapsed": false
   },
   "outputs": [
    {
     "data": {
      "text/plain": [
       "([1, 2, 67, 134],\n",
       " [1, 491],\n",
       " [1, 2, 211, 422],\n",
       " [1, 2, 3, 6, 167, 334, 501, 1002])"
      ]
     },
     "execution_count": 49,
     "metadata": {},
     "output_type": "execute_result"
    }
   ],
   "source": [
    "# Calcula la lista de divisores de cada uno de los siguientes números enteros: 134, 491, 422 y 1002\n",
    "\n",
    "a = divisors(134)\n",
    "b = divisors(491)\n",
    "c = divisors(422)\n",
    "d = divisors(1002)\n",
    "\n",
    "(a), (b), (c), (d)"
   ]
  },
  {
   "cell_type": "code",
   "execution_count": 24,
   "metadata": {
    "collapsed": false
   },
   "outputs": [
    {
     "data": {
      "text/plain": [
       "[491]"
      ]
     },
     "execution_count": 24,
     "metadata": {},
     "output_type": "execute_result"
    }
   ],
   "source": [
    "# De los enteros del ejercicio anterior, ¿cuáles son números primos?\n",
    "\n",
    "# Números\n",
    "numeros = [134, 491, 422, 1002]\n",
    "\n",
    "# Identificar los números primos\n",
    "primos = [num for num in numeros if is_prime(num)]\n",
    "primos\n"
   ]
  },
  {
   "cell_type": "code",
   "execution_count": 48,
   "metadata": {
    "collapsed": false
   },
   "outputs": [
    {
     "data": {
      "text/plain": [
       "((1, 10), (2, 20), (3, 306))"
      ]
     },
     "execution_count": 48,
     "metadata": {},
     "output_type": "execute_result"
    }
   ],
   "source": [
    "# Calcula el máximo común divisor (mcd) y el mínimo común múltiplo (mcm) para los pares de números enteros (2,5), (4,10) y (18, 51).\n",
    "\n",
    "a = gcd(2, 5)\n",
    "b = lcm(2, 5)\n",
    "\n",
    "c = gcd(4, 10)\n",
    "d = lcm(4, 10)\n",
    "\n",
    "e = gcd(18, 51)\n",
    "f = lcm(18, 51)\n",
    "\n",
    "(a, b), (c, d), (e, f)"
   ]
  }
 ],
 "metadata": {
  "kernelspec": {
   "argv": [
    "sage-10.1",
    "--python",
    "-m",
    "sage.repl.ipython_kernel",
    "--matplotlib=inline",
    "-f",
    "{connection_file}"
   ],
   "display_name": "SageMath 10.1",
   "env": {},
   "language": "sagemath",
   "metadata": {
    "cocalc": {
     "description": "Open-source mathematical software system",
     "priority": 10,
     "url": "https://www.sagemath.org/"
    }
   },
   "name": "sage-10.1",
   "resource_dir": "/ext/jupyter/kernels/sage-10.1"
  },
  "language_info": {
   "codemirror_mode": {
    "name": "ipython",
    "version": 3
   },
   "file_extension": ".py",
   "mimetype": "text/x-python",
   "name": "python",
   "nbconvert_exporter": "python",
   "pygments_lexer": "ipython3",
   "version": "3.11.1"
  }
 },
 "nbformat": 4,
 "nbformat_minor": 4
}
